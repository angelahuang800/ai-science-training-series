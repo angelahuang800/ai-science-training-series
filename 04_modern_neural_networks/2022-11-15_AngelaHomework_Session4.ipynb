{
 "cells": [
  {
   "cell_type": "markdown",
   "id": "6e32d25f",
   "metadata": {},
   "source": [
    "# Homework 4"
   ]
  },
  {
   "cell_type": "code",
   "execution_count": 1,
   "id": "02a644e6",
   "metadata": {},
   "outputs": [],
   "source": [
    "import tensorflow as tf\n",
    "import json"
   ]
  },
  {
   "cell_type": "code",
   "execution_count": 2,
   "id": "8286eeec",
   "metadata": {},
   "outputs": [
    {
     "name": "stdout",
     "output_type": "stream",
     "text": [
      "Defaulting to user installation because normal site-packages is not writeable\n",
      "Requirement already satisfied: horovod in /lus/theta-fs0/software/thetagpu/conda/2022-07-01/mconda3/lib/python3.8/site-packages (0.25.0)\n",
      "Requirement already satisfied: pyyaml in /lus/theta-fs0/software/thetagpu/conda/2022-07-01/mconda3/lib/python3.8/site-packages (from horovod) (6.0)\n",
      "Requirement already satisfied: cffi>=1.4.0 in /lus/theta-fs0/software/thetagpu/conda/2022-07-01/mconda3/lib/python3.8/site-packages (from horovod) (1.15.1)\n",
      "Requirement already satisfied: cloudpickle in /lus/theta-fs0/software/thetagpu/conda/2022-07-01/mconda3/lib/python3.8/site-packages (from horovod) (2.1.0)\n",
      "Requirement already satisfied: psutil in /lus/theta-fs0/software/thetagpu/conda/2022-07-01/mconda3/lib/python3.8/site-packages (from horovod) (5.9.1)\n",
      "Requirement already satisfied: pycparser in /lus/theta-fs0/software/thetagpu/conda/2022-07-01/mconda3/lib/python3.8/site-packages (from cffi>=1.4.0->horovod) (2.21)\n",
      "\n",
      "\u001b[1m[\u001b[0m\u001b[34;49mnotice\u001b[0m\u001b[1;39;49m]\u001b[0m\u001b[39;49m A new release of pip available: \u001b[0m\u001b[31;49m22.3\u001b[0m\u001b[39;49m -> \u001b[0m\u001b[32;49m22.3.1\u001b[0m\n",
      "\u001b[1m[\u001b[0m\u001b[34;49mnotice\u001b[0m\u001b[1;39;49m]\u001b[0m\u001b[39;49m To update, run: \u001b[0m\u001b[32;49mpip install --upgrade pip\u001b[0m\n",
      "Note: you may need to restart the kernel to use updated packages.\n"
     ]
    }
   ],
   "source": [
    "pip install horovod"
   ]
  },
  {
   "cell_type": "code",
   "execution_count": 3,
   "id": "e9d87e97",
   "metadata": {},
   "outputs": [
    {
     "name": "stderr",
     "output_type": "stream",
     "text": [
      "--------------------------------------------------------------------------\n",
      "WARNING: There was an error initializing an OpenFabrics device.\n",
      "\n",
      "  Local host:   thetagpu06\n",
      "  Local device: mlx5_0\n",
      "--------------------------------------------------------------------------\n"
     ]
    }
   ],
   "source": [
    "from ilsvrc_dataset import get_datasets"
   ]
  },
  {
   "cell_type": "code",
   "execution_count": 4,
   "id": "47670a00",
   "metadata": {},
   "outputs": [
    {
     "name": "stdout",
     "output_type": "stream",
     "text": [
      "{\n",
      "    \"data\": {\n",
      "        \"handler\": \"ilsvrc_dataset\",\n",
      "        \"batch_size\": 128,\n",
      "        \"train_filelist\": \"/lus/grand/projects/ALCFAITP/ilsvrc_train_filelist.txt\",\n",
      "        \"test_filelist\": \"/lus/grand/projects/ALCFAITP/ilsvrc_val_filelist.txt\",\n",
      "        \"shuffle_buffer\": 200000,\n",
      "        \"reshuffle_each_iteration\": true,\n",
      "        \"num_parallel_readers\": 32,\n",
      "        \"prefetch_buffer_size\": 10,\n",
      "        \"crop_image_size\": [\n",
      "            256,\n",
      "            256\n",
      "        ],\n",
      "        \"num_classes\": 1000,\n",
      "        \"num_channels\": 3\n",
      "    }\n",
      "}\n"
     ]
    }
   ],
   "source": [
    "class FakeHvd:\n",
    "    \n",
    "    def size(self): return 1\n",
    "    \n",
    "    def rank(self): return 0\n",
    "\n",
    "\n",
    "with open(\"ilsvrc.json\", 'r') as f: \n",
    "    config = json.load(f)\n",
    "\n",
    "print(json.dumps(config, indent=4))\n",
    "    \n",
    "    \n",
    "config['hvd'] = FakeHvd()"
   ]
  },
  {
   "cell_type": "code",
   "execution_count": 5,
   "id": "279f9e55",
   "metadata": {},
   "outputs": [
    {
     "name": "stdout",
     "output_type": "stream",
     "text": [
      "num labels: 1000\n",
      "build dataset /lus/grand/projects/ALCFAITP/ilsvrc_train_filelist.txt\n",
      "input filelist contains 1281167 files, estimated batches per rank 10009\n",
      "build dataset /lus/grand/projects/ALCFAITP/ilsvrc_val_filelist.txt\n",
      "input filelist contains 50000 files, estimated batches per rank 390\n"
     ]
    }
   ],
   "source": [
    "train_ds, val_ds = get_datasets(config)"
   ]
  },
  {
   "cell_type": "code",
   "execution_count": 6,
   "id": "751f75df",
   "metadata": {},
   "outputs": [],
   "source": [
    "images, labels = next(iter(train_ds.take(1)))"
   ]
  },
  {
   "cell_type": "code",
   "execution_count": 7,
   "id": "01cc9cbe",
   "metadata": {},
   "outputs": [
    {
     "name": "stdout",
     "output_type": "stream",
     "text": [
      "(128, 256, 256, 3)\n",
      "(128,)\n"
     ]
    }
   ],
   "source": [
    "print(images.shape)\n",
    "print(labels.shape)"
   ]
  },
  {
   "cell_type": "code",
   "execution_count": 8,
   "id": "dacf3ad0",
   "metadata": {},
   "outputs": [],
   "source": [
    "class DenseLayer(tf.keras.Model):\n",
    "    \n",
    "    def __init__(self, n_filters):\n",
    "        tf.keras.Model.__init__(self)\n",
    "        \n",
    "        self.conv1 = tf.keras.layers.Conv2D(\n",
    "            filters     = n_filters,\n",
    "            kernel_size = (3,3),\n",
    "            padding     = \"same\"\n",
    "        )\n",
    "        \n",
    "    def __call__(self, inputs):\n",
    "        \n",
    "        x = inputs\n",
    "        \n",
    "        output1 = self.conv1(inputs)\n",
    "        \n",
    "        output1 = tf.keras.activations.sigmoid(output1)\n",
    "        \n",
    "        return output1\n",
    "    \n",
    "class ResidualLayer(tf.keras.Model):\n",
    "    \n",
    "    def __init__(self, n_filters):\n",
    "        tf.keras.Model.__init__(self)\n",
    "        \n",
    "        self.conv1 = tf.keras.layers.Conv2D(\n",
    "            filters     = n_filters,\n",
    "            kernel_size = (3,3),\n",
    "            padding     = \"same\"\n",
    "        )\n",
    "        \n",
    "        self.conv2 = tf.keras.layers.Conv2D(\n",
    "            filters     = n_filters,\n",
    "            kernel_size = (3,3),\n",
    "            padding     = \"same\"\n",
    "        )\n",
    "    \n",
    "    def __call__(self, inputs):\n",
    "        \n",
    "        x = inputs\n",
    "        \n",
    "        output1 = self.conv1(inputs)\n",
    "        \n",
    "        output1 = tf.keras.activations.sigmoid(output1)\n",
    "        \n",
    "        output2 = self.conv2(output1)\n",
    "\n",
    "        return tf.keras.activations.sigmoid(output2 + x)\n",
    "        "
   ]
  },
  {
   "cell_type": "code",
   "execution_count": null,
   "id": "1abcfd09",
   "metadata": {},
   "outputs": [],
   "source": []
  }
 ],
 "metadata": {
  "kernelspec": {
   "display_name": "conda/2022-07-01",
   "language": "python",
   "name": "conda-2022-07-01"
  },
  "language_info": {
   "codemirror_mode": {
    "name": "ipython",
    "version": 3
   },
   "file_extension": ".py",
   "mimetype": "text/x-python",
   "name": "python",
   "nbconvert_exporter": "python",
   "pygments_lexer": "ipython3",
   "version": "3.8.13"
  }
 },
 "nbformat": 4,
 "nbformat_minor": 5
}
